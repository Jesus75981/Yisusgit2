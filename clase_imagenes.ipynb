{
 "cells": [
  {
   "cell_type": "markdown",
   "metadata": {},
   "source": [
    "leer una imagen con jupyter"
   ]
  },
  {
   "cell_type": "code",
   "execution_count": 2,
   "metadata": {},
   "outputs": [],
   "source": [
    "import matplotlib.pyplot as plt \n",
    "import cv2 \n",
    "import numpy as np \n",
    "%matplotlib inline \n",
    "plt.rcParams['figure.figsize']=[10,5]\n"
   ]
  },
  {
   "cell_type": "markdown",
   "metadata": {},
   "source": [
    "Ejercitando el mostrar imagen "
   ]
  },
  {
   "cell_type": "code",
   "execution_count": 4,
   "metadata": {},
   "outputs": [
    {
     "name": "stdout",
     "output_type": "stream",
     "text": [
      "Error al abrir la imagen: image file is truncated (933266 bytes not processed)\n"
     ]
    }
   ],
   "source": [
    "from PIL import Image\n",
    "\n",
    "def open_img(img):\n",
    "    route = r\"C:\\Users\\estudiante\\Documents\\Repositorio Jesus\" + \"\\\\\" + img\n",
    "    try:\n",
    "        img = Image.open(route)\n",
    "        img.show()\n",
    "    except Exception as e:\n",
    "        print(f\"Error al abrir la imagen: {e}\")\n",
    "\n",
    "# Llama a tu función con el nombre de la imagen\n",
    "open_img(\"IMG_2006.jpg\")\n"
   ]
  }
 ],
 "metadata": {
  "kernelspec": {
   "display_name": "Python 3",
   "language": "python",
   "name": "python3"
  },
  "language_info": {
   "codemirror_mode": {
    "name": "ipython",
    "version": 3
   },
   "file_extension": ".py",
   "mimetype": "text/x-python",
   "name": "python",
   "nbconvert_exporter": "python",
   "pygments_lexer": "ipython3",
   "version": "3.12.2"
  }
 },
 "nbformat": 4,
 "nbformat_minor": 2
}
